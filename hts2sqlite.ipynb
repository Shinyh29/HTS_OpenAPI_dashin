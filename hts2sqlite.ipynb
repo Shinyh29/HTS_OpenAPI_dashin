{
 "cells": [
  {
   "cell_type": "code",
   "execution_count": 11,
   "metadata": {},
   "outputs": [
    {
     "name": "stdout",
     "output_type": "stream",
     "text": [
      "Python 3.8.5\n",
      "bit_version : ('64bit', 'WindowsPE')\n"
     ]
    }
   ],
   "source": [
    "!python --version\n",
    "!activate py37_32bit\n",
    "import platform\n",
    "\n",
    "print(f'bit_version : {platform.architecture()}')"
   ]
  },
  {
   "cell_type": "code",
   "execution_count": 12,
   "metadata": {},
   "outputs": [],
   "source": [
    "# !python --version\n",
    "!activate py37_32bit"
   ]
  },
  {
   "cell_type": "code",
   "execution_count": null,
   "metadata": {},
   "outputs": [
    {
     "name": "stdout",
     "output_type": "stream",
     "text": [
      "Python 3.8.5\n"
     ]
    }
   ],
   "source": [
    "!python --version\n",
    "!python "
   ]
  },
  {
   "cell_type": "code",
   "execution_count": 1,
   "metadata": {},
   "outputs": [],
   "source": [
    "'''\n",
    "1. 백테스트를 위한 데이터베이스 구축\n",
    "- 데이터 조회\n",
    "'''\n",
    "\n",
    "# 패키지 호출 \n",
    "import pandas as pd\n",
    "import win32com.client\n",
    "import sqlite3"
   ]
  },
  {
   "cell_type": "code",
   "execution_count": 6,
   "metadata": {},
   "outputs": [
    {
     "ename": "com_error",
     "evalue": "(-2147221164, '클래스가 등록되지 않았습니다.', None, None)",
     "output_type": "error",
     "traceback": [
      "\u001b[1;31m---------------------------------------------------------------------------\u001b[0m",
      "\u001b[1;31mcom_error\u001b[0m                                 Traceback (most recent call last)",
      "\u001b[1;32mC:\\Anaconda3\\lib\\site-packages\\win32com\\client\\dynamic.py\u001b[0m in \u001b[0;36m_GetGoodDispatch\u001b[1;34m(IDispatch, clsctx)\u001b[0m\n\u001b[0;32m     88\u001b[0m                 \u001b[1;32mtry\u001b[0m\u001b[1;33m:\u001b[0m\u001b[1;33m\u001b[0m\u001b[1;33m\u001b[0m\u001b[0m\n\u001b[1;32m---> 89\u001b[1;33m                         \u001b[0mIDispatch\u001b[0m \u001b[1;33m=\u001b[0m \u001b[0mpythoncom\u001b[0m\u001b[1;33m.\u001b[0m\u001b[0mconnect\u001b[0m\u001b[1;33m(\u001b[0m\u001b[0mIDispatch\u001b[0m\u001b[1;33m)\u001b[0m\u001b[1;33m\u001b[0m\u001b[1;33m\u001b[0m\u001b[0m\n\u001b[0m\u001b[0;32m     90\u001b[0m                 \u001b[1;32mexcept\u001b[0m \u001b[0mpythoncom\u001b[0m\u001b[1;33m.\u001b[0m\u001b[0mole_error\u001b[0m\u001b[1;33m:\u001b[0m\u001b[1;33m\u001b[0m\u001b[1;33m\u001b[0m\u001b[0m\n",
      "\u001b[1;31mcom_error\u001b[0m: (-2147221021, '작업을 사용할 수 없습니다.', None, None)",
      "\nDuring handling of the above exception, another exception occurred:\n",
      "\u001b[1;31mcom_error\u001b[0m                                 Traceback (most recent call last)",
      "\u001b[1;32m<ipython-input-6-fee2a38c4efe>\u001b[0m in \u001b[0;36m<module>\u001b[1;34m\u001b[0m\n\u001b[0;32m      2\u001b[0m \u001b[1;33m\u001b[0m\u001b[0m\n\u001b[0;32m      3\u001b[0m \u001b[1;31m#objCpStatus = win32com.client.Dispatch('CpUtil.CpCybos')\u001b[0m\u001b[1;33m\u001b[0m\u001b[1;33m\u001b[0m\u001b[1;33m\u001b[0m\u001b[0m\n\u001b[1;32m----> 4\u001b[1;33m \u001b[0mobjCpStatus\u001b[0m \u001b[1;33m=\u001b[0m \u001b[0mwin32com\u001b[0m\u001b[1;33m.\u001b[0m\u001b[0mclient\u001b[0m\u001b[1;33m.\u001b[0m\u001b[0mDispatch\u001b[0m\u001b[1;33m(\u001b[0m\u001b[1;34m\"CpUtil.CpCybos\"\u001b[0m\u001b[1;33m)\u001b[0m\u001b[1;33m\u001b[0m\u001b[1;33m\u001b[0m\u001b[0m\n\u001b[0m\u001b[0;32m      5\u001b[0m \u001b[0mprint\u001b[0m\u001b[1;33m(\u001b[0m\u001b[0mobjCpStatus\u001b[0m\u001b[1;33m)\u001b[0m\u001b[1;33m\u001b[0m\u001b[1;33m\u001b[0m\u001b[0m\n\u001b[0;32m      6\u001b[0m \u001b[1;31m# def check_connection():\u001b[0m\u001b[1;33m\u001b[0m\u001b[1;33m\u001b[0m\u001b[1;33m\u001b[0m\u001b[0m\n",
      "\u001b[1;32mC:\\Anaconda3\\lib\\site-packages\\win32com\\client\\__init__.py\u001b[0m in \u001b[0;36mDispatch\u001b[1;34m(dispatch, userName, resultCLSID, typeinfo, UnicodeToString, clsctx)\u001b[0m\n\u001b[0;32m     93\u001b[0m   \"\"\"\n\u001b[0;32m     94\u001b[0m   \u001b[1;32massert\u001b[0m \u001b[0mUnicodeToString\u001b[0m \u001b[1;32mis\u001b[0m \u001b[1;32mNone\u001b[0m\u001b[1;33m,\u001b[0m \u001b[1;34m\"this is deprecated and will go away\"\u001b[0m\u001b[1;33m\u001b[0m\u001b[1;33m\u001b[0m\u001b[0m\n\u001b[1;32m---> 95\u001b[1;33m   \u001b[0mdispatch\u001b[0m\u001b[1;33m,\u001b[0m \u001b[0muserName\u001b[0m \u001b[1;33m=\u001b[0m \u001b[0mdynamic\u001b[0m\u001b[1;33m.\u001b[0m\u001b[0m_GetGoodDispatchAndUserName\u001b[0m\u001b[1;33m(\u001b[0m\u001b[0mdispatch\u001b[0m\u001b[1;33m,\u001b[0m\u001b[0muserName\u001b[0m\u001b[1;33m,\u001b[0m\u001b[0mclsctx\u001b[0m\u001b[1;33m)\u001b[0m\u001b[1;33m\u001b[0m\u001b[1;33m\u001b[0m\u001b[0m\n\u001b[0m\u001b[0;32m     96\u001b[0m   \u001b[1;32mreturn\u001b[0m \u001b[0m__WrapDispatch\u001b[0m\u001b[1;33m(\u001b[0m\u001b[0mdispatch\u001b[0m\u001b[1;33m,\u001b[0m \u001b[0muserName\u001b[0m\u001b[1;33m,\u001b[0m \u001b[0mresultCLSID\u001b[0m\u001b[1;33m,\u001b[0m \u001b[0mtypeinfo\u001b[0m\u001b[1;33m,\u001b[0m \u001b[0mclsctx\u001b[0m\u001b[1;33m=\u001b[0m\u001b[0mclsctx\u001b[0m\u001b[1;33m)\u001b[0m\u001b[1;33m\u001b[0m\u001b[1;33m\u001b[0m\u001b[0m\n\u001b[0;32m     97\u001b[0m \u001b[1;33m\u001b[0m\u001b[0m\n",
      "\u001b[1;32mC:\\Anaconda3\\lib\\site-packages\\win32com\\client\\dynamic.py\u001b[0m in \u001b[0;36m_GetGoodDispatchAndUserName\u001b[1;34m(IDispatch, userName, clsctx)\u001b[0m\n\u001b[0;32m    112\u001b[0m         \u001b[1;32melse\u001b[0m\u001b[1;33m:\u001b[0m\u001b[1;33m\u001b[0m\u001b[1;33m\u001b[0m\u001b[0m\n\u001b[0;32m    113\u001b[0m                 \u001b[0muserName\u001b[0m \u001b[1;33m=\u001b[0m \u001b[0mstr\u001b[0m\u001b[1;33m(\u001b[0m\u001b[0muserName\u001b[0m\u001b[1;33m)\u001b[0m\u001b[1;33m\u001b[0m\u001b[1;33m\u001b[0m\u001b[0m\n\u001b[1;32m--> 114\u001b[1;33m         \u001b[1;32mreturn\u001b[0m \u001b[1;33m(\u001b[0m\u001b[0m_GetGoodDispatch\u001b[0m\u001b[1;33m(\u001b[0m\u001b[0mIDispatch\u001b[0m\u001b[1;33m,\u001b[0m \u001b[0mclsctx\u001b[0m\u001b[1;33m)\u001b[0m\u001b[1;33m,\u001b[0m \u001b[0muserName\u001b[0m\u001b[1;33m)\u001b[0m\u001b[1;33m\u001b[0m\u001b[1;33m\u001b[0m\u001b[0m\n\u001b[0m\u001b[0;32m    115\u001b[0m \u001b[1;33m\u001b[0m\u001b[0m\n\u001b[0;32m    116\u001b[0m \u001b[1;32mdef\u001b[0m \u001b[0m_GetDescInvokeType\u001b[0m\u001b[1;33m(\u001b[0m\u001b[0mentry\u001b[0m\u001b[1;33m,\u001b[0m \u001b[0minvoke_type\u001b[0m\u001b[1;33m)\u001b[0m\u001b[1;33m:\u001b[0m\u001b[1;33m\u001b[0m\u001b[1;33m\u001b[0m\u001b[0m\n",
      "\u001b[1;32mC:\\Anaconda3\\lib\\site-packages\\win32com\\client\\dynamic.py\u001b[0m in \u001b[0;36m_GetGoodDispatch\u001b[1;34m(IDispatch, clsctx)\u001b[0m\n\u001b[0;32m     89\u001b[0m                         \u001b[0mIDispatch\u001b[0m \u001b[1;33m=\u001b[0m \u001b[0mpythoncom\u001b[0m\u001b[1;33m.\u001b[0m\u001b[0mconnect\u001b[0m\u001b[1;33m(\u001b[0m\u001b[0mIDispatch\u001b[0m\u001b[1;33m)\u001b[0m\u001b[1;33m\u001b[0m\u001b[1;33m\u001b[0m\u001b[0m\n\u001b[0;32m     90\u001b[0m                 \u001b[1;32mexcept\u001b[0m \u001b[0mpythoncom\u001b[0m\u001b[1;33m.\u001b[0m\u001b[0mole_error\u001b[0m\u001b[1;33m:\u001b[0m\u001b[1;33m\u001b[0m\u001b[1;33m\u001b[0m\u001b[0m\n\u001b[1;32m---> 91\u001b[1;33m                         \u001b[0mIDispatch\u001b[0m \u001b[1;33m=\u001b[0m \u001b[0mpythoncom\u001b[0m\u001b[1;33m.\u001b[0m\u001b[0mCoCreateInstance\u001b[0m\u001b[1;33m(\u001b[0m\u001b[0mIDispatch\u001b[0m\u001b[1;33m,\u001b[0m \u001b[1;32mNone\u001b[0m\u001b[1;33m,\u001b[0m \u001b[0mclsctx\u001b[0m\u001b[1;33m,\u001b[0m \u001b[0mpythoncom\u001b[0m\u001b[1;33m.\u001b[0m\u001b[0mIID_IDispatch\u001b[0m\u001b[1;33m)\u001b[0m\u001b[1;33m\u001b[0m\u001b[1;33m\u001b[0m\u001b[0m\n\u001b[0m\u001b[0;32m     92\u001b[0m         \u001b[1;32melse\u001b[0m\u001b[1;33m:\u001b[0m\u001b[1;33m\u001b[0m\u001b[1;33m\u001b[0m\u001b[0m\n\u001b[0;32m     93\u001b[0m                 \u001b[1;31m# may already be a wrapped class.\u001b[0m\u001b[1;33m\u001b[0m\u001b[1;33m\u001b[0m\u001b[1;33m\u001b[0m\u001b[0m\n",
      "\u001b[1;31mcom_error\u001b[0m: (-2147221164, '클래스가 등록되지 않았습니다.', None, None)"
     ]
    }
   ],
   "source": [
    "# 대신증권 연결여부 체크\n",
    "\n",
    "#objCpStatus = win32com.client.Dispatch('CpUtil.CpCybos')\n",
    "objCpStatus = win32com.client.Dispatch(\"CpUtil.CpCybos\")\n",
    "print(objCpStatus)\n",
    "# def check_connection():\n",
    "#     bConnect = objCpStatus.IsConnect\n",
    "#     if (bConnect == 0):\n",
    "#         print(\"PLUS가 정상적으로 연결되지 않음.\")\n",
    "#         exit()\n",
    "        \n",
    "#     else:\n",
    "#         print(\"연결완료\")\n",
    "        \n",
    "#     return True\n",
    "\n",
    "# check_connection()"
   ]
  },
  {
   "cell_type": "code",
   "execution_count": 5,
   "metadata": {},
   "outputs": [
    {
     "name": "stdout",
     "output_type": "stream",
     "text": [
      "날짜 시가 고가 저가 종가 거래량\n",
      "==============================================\n",
      "20200422 48700 50000 48350 49850 18613864\n",
      "20200421 49400 49700 48700 49250 27407543\n",
      "20200420 51400 51400 50000 50100 21866354\n",
      "20200417 50800 52000 50300 51400 32041675\n",
      "20200416 49350 49350 48550 49000 23349760\n",
      "20200414 48800 49200 48300 49000 14206216\n",
      "20200413 48650 48900 48300 48300 14431800\n",
      "20200410 48950 49250 48650 49250 17839111\n",
      "20200409 49750 49800 48700 49100 22628058\n",
      "20200408 49600 49750 48600 48600 25010314\n"
     ]
    }
   ],
   "source": [
    "# 주가 불러오기 - 갯수 기준\n",
    "objStockChart = win32com.client.Dispatch(\"CpSysDib.StockChart\")\n",
    " \n",
    "objStockChart.SetInputValue(0, 'A005930')   #종목 코드 - 삼성전자\n",
    "\n",
    "objStockChart.SetInputValue(1, ord('2')) # 개수로 조회\n",
    "objStockChart.SetInputValue(4, 10) # 최근 100일 치\n",
    "\n",
    "objStockChart.SetInputValue(5, [0, 2, 3, 4, 5, 8, 9]) #날짜,시가,고가,저가,종가,거래량\n",
    "objStockChart.SetInputValue(6, ord('D')) # '차트 주가 - 일간 차트 요청\n",
    "objStockChart.SetInputValue(9, ord('1')) # 수정주가 사용\n",
    "objStockChart.BlockRequest()\n",
    " \n",
    "len = objStockChart.GetHeaderValue(3)\n",
    " \n",
    "print(\"날짜\", \"시가\", \"고가\", \"저가\", \"종가\", \"거래량\")\n",
    "print(\"==============================================\")\n",
    " \n",
    "for i in range(len):\n",
    "    day = objStockChart.GetDataValue(0, i)\n",
    "    open = objStockChart.GetDataValue(1, i)\n",
    "    high = objStockChart.GetDataValue(2, i)\n",
    "    low = objStockChart.GetDataValue(3, i)\n",
    "    close = objStockChart.GetDataValue(4, i)\n",
    "    vol = objStockChart.GetDataValue(5, i)\n",
    "    print (day, open, high, low, close, vol)\n"
   ]
  },
  {
   "cell_type": "code",
   "execution_count": 9,
   "metadata": {},
   "outputs": [
    {
     "name": "stdout",
     "output_type": "stream",
     "text": [
      "날짜 시가 고가 저가 종가 거래량 거래대금\n",
      "==============================================\n",
      "20200422 48700 50000 48350 49850 18613864 912223000000\n",
      "20200421 49400 49700 48700 49250 27407543 1347415000000\n",
      "20200420 51400 51400 50000 50100 21866354 1106552000000\n",
      "20200417 50800 52000 50300 51400 32041675 1641068000000\n",
      "20200416 49350 49350 48550 49000 23349760 1143760000000\n",
      "20200414 48800 49200 48300 49000 14206216 694513000000\n",
      "20200413 48650 48900 48300 48300 14431800 700511000000\n",
      "20200410 48950 49250 48650 49250 17839111 872177000000\n",
      "20200409 49750 49800 48700 49100 22628058 1111936000000\n",
      "20200408 49600 49750 48600 48600 25010314 1230375000000\n",
      "20200407 49650 50200 49000 49600 31524034 1561333000000\n",
      "20200406 47500 48800 47250 48700 23395726 1123254000000\n",
      "20200403 47400 47600 46550 47000 22784682 1074180000000\n",
      "20200402 46200 46850 45350 46800 21621076 997831000000\n",
      "20200401 47450 47900 45800 45800 27259532 1282483000000\n"
     ]
    }
   ],
   "source": [
    "# 주가 불러오기 - 날짜 기준\n",
    "objStockChart = win32com.client.Dispatch(\"CpSysDib.StockChart\")\n",
    " \n",
    "objStockChart.SetInputValue(0, 'A005930') # 종목 코드 - 삼성전자\n",
    "objStockChart.SetInputValue(1, ord('1')) # 날짜로 조회\n",
    "\n",
    "objStockChart.SetInputValue(2, 0) # 종료 날짜, 0을 넣으면 가장 최근 날짜로 불러옴.\n",
    "objStockChart.SetInputValue(3, 20200401) # 시작 날짜, 3월 1일로  설정하였음.\n",
    "\n",
    "objStockChart.SetInputValue(5, [0, 2, 3, 4, 5, 8, 9]) # 날짜, 시가, 고가, 저가, 종가, 거래량, 거래대금\n",
    "objStockChart.SetInputValue(6, ord('D')) # '차트 주가 - 일간 차트 요청\n",
    "objStockChart.SetInputValue(9, ord('1')) # 수정주가 사용\n",
    "objStockChart.BlockRequest()\n",
    " \n",
    "len = objStockChart.GetHeaderValue(3)\n",
    " \n",
    "print(\"날짜\", \"시가\", \"고가\", \"저가\", \"종가\", \"거래량\", \"거래대금\")\n",
    "print(\"==============================================\")\n",
    " \n",
    "for i in range(len):\n",
    "    day = objStockChart.GetDataValue(0, i)\n",
    "    open = objStockChart.GetDataValue(1, i)\n",
    "    high = objStockChart.GetDataValue(2, i)\n",
    "    low = objStockChart.GetDataValue(3, i)\n",
    "    close = objStockChart.GetDataValue(4, i)\n",
    "    vol = objStockChart.GetDataValue(5, i)\n",
    "    vol_mon = objStockChart.GetDataValue(6, i)\n",
    "    \n",
    "    # 데이터 확인해보기\n",
    "    print(day, open, high, low, close, vol, vol_mon)"
   ]
  },
  {
   "cell_type": "code",
   "execution_count": 11,
   "metadata": {},
   "outputs": [
    {
     "name": "stdout",
     "output_type": "stream",
     "text": [
      "         day   open   high    low  close       vol      vol_money\n",
      "0   20200422  48700  50000  48350  49850  18613864   912223000000\n",
      "1   20200421  49400  49700  48700  49250  27407543  1347415000000\n",
      "2   20200420  51400  51400  50000  50100  21866354  1106552000000\n",
      "3   20200417  50800  52000  50300  51400  32041675  1641068000000\n",
      "4   20200416  49350  49350  48550  49000  23349760  1143760000000\n",
      "5   20200414  48800  49200  48300  49000  14206216   694513000000\n",
      "6   20200413  48650  48900  48300  48300  14431800   700511000000\n",
      "7   20200410  48950  49250  48650  49250  17839111   872177000000\n",
      "8   20200409  49750  49800  48700  49100  22628058  1111936000000\n",
      "9   20200408  49600  49750  48600  48600  25010314  1230375000000\n",
      "10  20200407  49650  50200  49000  49600  31524034  1561333000000\n",
      "11  20200406  47500  48800  47250  48700  23395726  1123254000000\n",
      "12  20200403  47400  47600  46550  47000  22784682  1074180000000\n",
      "13  20200402  46200  46850  45350  46800  21621076   997831000000\n",
      "14  20200401  47450  47900  45800  45800  27259532  1282483000000\n"
     ]
    }
   ],
   "source": [
    "'''\n",
    "- DataFrame로 저장하기\n",
    "'''\n",
    "\n",
    "# 1. 주가 불러오기 - 날짜 기준\n",
    "objStockChart = win32com.client.Dispatch(\"CpSysDib.StockChart\")\n",
    " \n",
    "objStockChart.SetInputValue(0, 'A005930') # 종목 코드 - 삼성전자\n",
    "objStockChart.SetInputValue(1, ord('1')) # 날짜로 조회\n",
    "\n",
    "objStockChart.SetInputValue(2, 0) # 종료 날짜, 0을 넣으면 가장 최근 날짜로 불러옴.\n",
    "objStockChart.SetInputValue(3, 20200401) # 시작 날짜, 3월 1일로  설정하였음.\n",
    "\n",
    "objStockChart.SetInputValue(5, [0, 2, 3, 4, 5, 8, 9]) # 날짜, 시가, 고가, 저가, 종가, 거래량, 거래대금\n",
    "objStockChart.SetInputValue(6, ord('D')) # '차트 주가 - 일간 차트 요청\n",
    "objStockChart.SetInputValue(9, ord('1')) # 수정주가 사용\n",
    "objStockChart.BlockRequest()\n",
    " \n",
    "len = objStockChart.GetHeaderValue(3)\n",
    "\n",
    "# 2. 리스트 기반으로 저장\n",
    "value_list = []\n",
    "\n",
    "for i in range(len):\n",
    "    day = objStockChart.GetDataValue(0, i)\n",
    "    open = objStockChart.GetDataValue(1, i)\n",
    "    high = objStockChart.GetDataValue(2, i)\n",
    "    low = objStockChart.GetDataValue(3, i)\n",
    "    close = objStockChart.GetDataValue(4, i)\n",
    "    vol = objStockChart.GetDataValue(5, i)\n",
    "    vol_mon = objStockChart.GetDataValue(6, i)\n",
    "    \n",
    "    # 데이터 확인해보기\n",
    "    value_list.append([day, open, high, low, close, vol, vol_mon])\n",
    "\n",
    "# 3, DataFrame로 변환\n",
    "price_df = pd.DataFrame(value_list, columns = ['day','open', 'high', 'low', 'close', 'vol', 'vol_money'])\n",
    "\n",
    "# 4. 데이터 확인\n",
    "print(price_df)"
   ]
  },
  {
   "cell_type": "code",
   "execution_count": 12,
   "metadata": {},
   "outputs": [],
   "source": [
    "'''\n",
    "방금 만든 데이터를 sqlite3 데이터베이스에 저장하기\n",
    "'''\n",
    "\n",
    "con = sqlite3.connect(\"price.db\")\n",
    "price_df.to_sql('A005930', con, if_exists='replace')"
   ]
  },
  {
   "cell_type": "code",
   "execution_count": null,
   "metadata": {},
   "outputs": [],
   "source": []
  }
 ],
 "metadata": {
  "kernelspec": {
   "display_name": "Python 3",
   "language": "python",
   "name": "python3"
  },
  "language_info": {
   "codemirror_mode": {
    "name": "ipython",
    "version": 3
   },
   "file_extension": ".py",
   "mimetype": "text/x-python",
   "name": "python",
   "nbconvert_exporter": "python",
   "pygments_lexer": "ipython3",
   "version": "3.8.5"
  }
 },
 "nbformat": 4,
 "nbformat_minor": 2
}
